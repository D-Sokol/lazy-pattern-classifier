{
 "cells": [
  {
   "cell_type": "code",
   "execution_count": 1,
   "metadata": {},
   "outputs": [],
   "source": [
    "import numpy as np\n",
    "import os\n",
    "import pandas as pd\n",
    "import pickle\n",
    "import matplotlib.pyplot as plt\n",
    "from tqdm import tqdm, trange\n",
    "from sklearn.model_selection import train_test_split, GridSearchCV, KFold\n",
    "from sklearn.metrics import (accuracy_score, precision_score, classification_report,\n",
    "                             recall_score, f1_score, make_scorer, confusion_matrix)"
   ]
  },
  {
   "cell_type": "code",
   "execution_count": 2,
   "metadata": {},
   "outputs": [],
   "source": [
    "from pattern_clf import *\n",
    "from datasets import *"
   ]
  },
  {
   "cell_type": "code",
   "execution_count": 3,
   "metadata": {},
   "outputs": [],
   "source": [
    "from pattern_clf_mol_projected import *"
   ]
  },
  {
   "cell_type": "markdown",
   "metadata": {},
   "source": [
    "# Estimation"
   ]
  },
  {
   "cell_type": "code",
   "execution_count": 4,
   "metadata": {},
   "outputs": [],
   "source": [
    "def hmetric(y_true, y_pred):\n",
    "    tn, fp, fn, tp = confusion_matrix(y_true, y_pred).ravel()\n",
    "    return 2 * tp * tn / (2*tp*tn + tp*fp + tn * fn)"
   ]
  },
  {
   "cell_type": "code",
   "execution_count": 5,
   "metadata": {},
   "outputs": [],
   "source": [
    "param_grid = {\n",
    "    \"use_positive\": [True, False],\n",
    "    \"alpha\": [0.02, 0.05, 0.1, 0.5],\n",
    "    \"beta\": [-0.2, -0.1, 0, 0.1, 0.2]\n",
    "}\n",
    "grid = GridSearchCV(LazyPatternClassifier(), param_grid,\n",
    "                    scoring={'f1': 'f1',\n",
    "                             'accuracy': 'accuracy',\n",
    "                             'precision': 'precision',\n",
    "                             'recall': 'recall',\n",
    "                             'hmetric': make_scorer(hmetric)},\n",
    "                    cv=KFold(n_splits=3, shuffle=True, random_state=495),\n",
    "                    verbose=4, return_train_score=True,\n",
    "                    n_jobs=1, refit=False)"
   ]
  },
  {
   "cell_type": "code",
   "execution_count": 5,
   "metadata": {},
   "outputs": [],
   "source": [
    "loaders = [\n",
    "    #('Breast Cancer', get_breast_cancer),\n",
    "    ('Heart Disease', get_heart_disease),\n",
    "    #('Mammographic Mass', get_mammographic_mass),\n",
    "    #('Seismic Bumps', get_seismic_bumps),\n",
    "    #('Titanic', get_titanic),\n",
    "    #('Breast GSE', get_breast_GSE),\n",
    "    #('Liver GSE', get_liver_GSE),\n",
    "    #('Prostate GSE', get_prostate_GSE),\n",
    "]"
   ]
  },
  {
   "cell_type": "code",
   "execution_count": 9,
   "metadata": {
    "scrolled": false
   },
   "outputs": [
    {
     "name": "stdout",
     "output_type": "stream",
     "text": [
      "Fitting 3 folds for each of 6 candidates, totalling 18 fits\n",
      "[CV] tolerance=1e-08, weight_classifiers=False, weights_iters=0 ......\n"
     ]
    },
    {
     "name": "stderr",
     "output_type": "stream",
     "text": [
      "[Parallel(n_jobs=1)]: Using backend SequentialBackend with 1 concurrent workers.\n"
     ]
    },
    {
     "name": "stdout",
     "output_type": "stream",
     "text": [
      "[CV]  tolerance=1e-08, weight_classifiers=False, weights_iters=0, total=   8.8s\n",
      "[CV] tolerance=1e-08, weight_classifiers=False, weights_iters=0 ......\n"
     ]
    },
    {
     "name": "stderr",
     "output_type": "stream",
     "text": [
      "[Parallel(n_jobs=1)]: Done   1 out of   1 | elapsed:   13.3s remaining:    0.0s\n"
     ]
    },
    {
     "name": "stdout",
     "output_type": "stream",
     "text": [
      "[CV]  tolerance=1e-08, weight_classifiers=False, weights_iters=0, total=   8.6s\n",
      "[CV] tolerance=1e-08, weight_classifiers=False, weights_iters=0 ......\n",
      "[CV]  tolerance=1e-08, weight_classifiers=False, weights_iters=0, total=   9.1s\n",
      "[CV] tolerance=1e-08, weight_classifiers=False, weights_iters=1 ......\n",
      "[CV]  tolerance=1e-08, weight_classifiers=False, weights_iters=1, total=   9.7s\n",
      "[CV] tolerance=1e-08, weight_classifiers=False, weights_iters=1 ......\n",
      "[CV]  tolerance=1e-08, weight_classifiers=False, weights_iters=1, total=   9.9s\n",
      "[CV] tolerance=1e-08, weight_classifiers=False, weights_iters=1 ......\n",
      "[CV]  tolerance=1e-08, weight_classifiers=False, weights_iters=1, total=  10.0s\n",
      "[CV] tolerance=1e-08, weight_classifiers=False, weights_iters=3 ......\n",
      "[CV]  tolerance=1e-08, weight_classifiers=False, weights_iters=3, total=   9.0s\n",
      "[CV] tolerance=1e-08, weight_classifiers=False, weights_iters=3 ......\n",
      "[CV]  tolerance=1e-08, weight_classifiers=False, weights_iters=3, total=   9.7s\n",
      "[CV] tolerance=1e-08, weight_classifiers=False, weights_iters=3 ......\n",
      "[CV]  tolerance=1e-08, weight_classifiers=False, weights_iters=3, total=   9.5s\n",
      "[CV] tolerance=1e-08, weight_classifiers=True, weights_iters=0 .......\n",
      "[CV]  tolerance=1e-08, weight_classifiers=True, weights_iters=0, total=  10.2s\n",
      "[CV] tolerance=1e-08, weight_classifiers=True, weights_iters=0 .......\n",
      "[CV]  tolerance=1e-08, weight_classifiers=True, weights_iters=0, total=  10.3s\n",
      "[CV] tolerance=1e-08, weight_classifiers=True, weights_iters=0 .......\n",
      "[CV]  tolerance=1e-08, weight_classifiers=True, weights_iters=0, total=  10.1s\n",
      "[CV] tolerance=1e-08, weight_classifiers=True, weights_iters=1 .......\n",
      "[CV]  tolerance=1e-08, weight_classifiers=True, weights_iters=1, total=  11.4s\n",
      "[CV] tolerance=1e-08, weight_classifiers=True, weights_iters=1 .......\n",
      "[CV]  tolerance=1e-08, weight_classifiers=True, weights_iters=1, total=  11.5s\n",
      "[CV] tolerance=1e-08, weight_classifiers=True, weights_iters=1 .......\n",
      "[CV]  tolerance=1e-08, weight_classifiers=True, weights_iters=1, total=  10.1s\n",
      "[CV] tolerance=1e-08, weight_classifiers=True, weights_iters=3 .......\n",
      "[CV]  tolerance=1e-08, weight_classifiers=True, weights_iters=3, total=  11.2s\n",
      "[CV] tolerance=1e-08, weight_classifiers=True, weights_iters=3 .......\n",
      "[CV]  tolerance=1e-08, weight_classifiers=True, weights_iters=3, total=  10.0s\n",
      "[CV] tolerance=1e-08, weight_classifiers=True, weights_iters=3 .......\n",
      "[CV]  tolerance=1e-08, weight_classifiers=True, weights_iters=3, total=  10.1s\n",
      "Completed: Heart Disease\n"
     ]
    },
    {
     "name": "stderr",
     "output_type": "stream",
     "text": [
      "[Parallel(n_jobs=1)]: Done  18 out of  18 | elapsed:  4.6min finished\n"
     ]
    }
   ],
   "source": [
    "result = {}\n",
    "for name, loader in loaders:\n",
    "    X, y = loader()\n",
    "    grid.fit(X, y)\n",
    "    result[name] = grid.cv_results_.copy()\n",
    "    print('Completed:', name)"
   ]
  },
  {
   "cell_type": "code",
   "execution_count": 7,
   "metadata": {},
   "outputs": [],
   "source": [
    "with open('results.pkl', 'wb') as f:\n",
    "    pickle.dump(result, f)\n",
    "!chmod -w 'results.pkl'"
   ]
  },
  {
   "cell_type": "markdown",
   "metadata": {},
   "source": [
    "## Estimation: Molecules"
   ]
  },
  {
   "cell_type": "code",
   "execution_count": 4,
   "metadata": {},
   "outputs": [],
   "source": [
    "def clr(x):\n",
    "    h = hash(x)\n",
    "    return (\n",
    "        (h // 256**0) % 256 / 255,\n",
    "        (h // 256**1) % 256 / 255,\n",
    "        (h // 256**2) % 256 / 255,\n",
    "    )\n",
    "\n",
    "def show(subg):\n",
    "    nx.draw(subg, with_labels=True,\n",
    "        labels=dict(subg.nodes(data='element')),\n",
    "        node_color=[clr(subg.nodes[i]['element']) for i in subg.nodes],\n",
    "        #vmin=0, vmax=1, cmap='rainbow'\n",
    "    )"
   ]
  },
  {
   "cell_type": "code",
   "execution_count": 4,
   "metadata": {},
   "outputs": [],
   "source": [
    "X, y = get_hiv()\n",
    "X, X_, y, y_ = train_test_split(X, y, train_size=100, random_state=495)"
   ]
  },
  {
   "cell_type": "code",
   "execution_count": 5,
   "metadata": {},
   "outputs": [],
   "source": [
    "X = X['smiles'].values\n",
    "X = smiles2descriptions(X)"
   ]
  },
  {
   "cell_type": "code",
   "execution_count": null,
   "metadata": {},
   "outputs": [],
   "source": [
    "param_grid = {\n",
    "    \"use_positive\": [True, False],\n",
    "    \"alpha\": [0.02, 0.05, 0.1],\n",
    "    \"beta\": [-0.2, -0.1, 0, 0.1, 0.2],\n",
    "}\n",
    "grid = GridSearchCV(MoleculeLazyPatternClassifierProjected(), param_grid,\n",
    "                    scoring={'f1': 'f1',\n",
    "                             'accuracy': 'accuracy',\n",
    "                             'precision': 'precision',\n",
    "                             'recall': 'recall',\n",
    "                             'hmetric': make_scorer(hmetric)},\n",
    "                    cv=KFold(n_splits=3, shuffle=True, random_state=495),\n",
    "                    verbose=4, return_train_score=False ,  # XXX: train_score\n",
    "                    n_jobs=-1, refit=False)"
   ]
  },
  {
   "cell_type": "code",
   "execution_count": null,
   "metadata": {},
   "outputs": [],
   "source": [
    "X0, y0 = get_hiv()\n",
    "halfsize = 100\n",
    "np.random.seed(495)\n",
    "X = np.concatenate((\n",
    "    X0.iloc[np.random.choice(np.where(y0)[0], size=halfsize)],\n",
    "    X0.iloc[np.random.choice(np.where(~y0)[0], size=halfsize)]\n",
    ")).squeeze()\n",
    "X = smiles2descriptions(X)\n",
    "y = np.array([1]*halfsize + [0]*halfsize)"
   ]
  },
  {
   "cell_type": "code",
   "execution_count": null,
   "metadata": {},
   "outputs": [],
   "source": [
    "grid.fit(X, y)\n",
    "result = {'HIV': grid.cv_results_.copy()}\n",
    "with open('HIV-100-100' + '.pkl', 'wb') as f:\n",
    "    pickle.dump(result, f)"
   ]
  },
  {
   "cell_type": "markdown",
   "metadata": {},
   "source": [
    "# Evaluation"
   ]
  },
  {
   "cell_type": "code",
   "execution_count": 8,
   "metadata": {},
   "outputs": [],
   "source": [
    "with open('results.pkl', 'rb') as f:\n",
    "    result = pickle.load(f)"
   ]
  },
  {
   "cell_type": "code",
   "execution_count": 10,
   "metadata": {},
   "outputs": [],
   "source": [
    "frames = {key: pd.DataFrame(value) for key, value in result.items()}\n",
    "for key, value in frames.items():\n",
    "    value['dataset'] = key\n",
    "metaframe = pd.concat(frames.values(), sort=True).reset_index(drop=True)"
   ]
  },
  {
   "cell_type": "code",
   "execution_count": 11,
   "metadata": {},
   "outputs": [
    {
     "data": {
      "text/html": [
       "<div>\n",
       "<style scoped>\n",
       "    .dataframe tbody tr th:only-of-type {\n",
       "        vertical-align: middle;\n",
       "    }\n",
       "\n",
       "    .dataframe tbody tr th {\n",
       "        vertical-align: top;\n",
       "    }\n",
       "\n",
       "    .dataframe thead th {\n",
       "        text-align: right;\n",
       "    }\n",
       "</style>\n",
       "<table border=\"1\" class=\"dataframe\">\n",
       "  <thead>\n",
       "    <tr style=\"text-align: right;\">\n",
       "      <th></th>\n",
       "      <th>dataset</th>\n",
       "      <th>mean_fit_time</th>\n",
       "      <th>mean_score_time</th>\n",
       "      <th>mean_test_accuracy</th>\n",
       "      <th>mean_test_f1</th>\n",
       "      <th>mean_test_hmetric</th>\n",
       "      <th>mean_test_precision</th>\n",
       "      <th>mean_test_recall</th>\n",
       "      <th>mean_train_accuracy</th>\n",
       "      <th>mean_train_f1</th>\n",
       "      <th>...</th>\n",
       "      <th>std_test_accuracy</th>\n",
       "      <th>std_test_f1</th>\n",
       "      <th>std_test_hmetric</th>\n",
       "      <th>std_test_precision</th>\n",
       "      <th>std_test_recall</th>\n",
       "      <th>std_train_accuracy</th>\n",
       "      <th>std_train_f1</th>\n",
       "      <th>std_train_hmetric</th>\n",
       "      <th>std_train_precision</th>\n",
       "      <th>std_train_recall</th>\n",
       "    </tr>\n",
       "  </thead>\n",
       "  <tbody>\n",
       "    <tr>\n",
       "      <th>4</th>\n",
       "      <td>Mammographic Mass</td>\n",
       "      <td>0.028506</td>\n",
       "      <td>5.370928</td>\n",
       "      <td>0.689156</td>\n",
       "      <td>0.728366</td>\n",
       "      <td>0.653627</td>\n",
       "      <td>0.632418</td>\n",
       "      <td>0.858686</td>\n",
       "      <td>0.932525</td>\n",
       "      <td>0.925339</td>\n",
       "      <td>...</td>\n",
       "      <td>0.017694</td>\n",
       "      <td>0.013831</td>\n",
       "      <td>0.026185</td>\n",
       "      <td>0.009921</td>\n",
       "      <td>0.020598</td>\n",
       "      <td>0.006014</td>\n",
       "      <td>0.006495</td>\n",
       "      <td>0.006495</td>\n",
       "      <td>0.0</td>\n",
       "      <td>0.011242</td>\n",
       "    </tr>\n",
       "    <tr>\n",
       "      <th>8</th>\n",
       "      <td>Titanic</td>\n",
       "      <td>0.024651</td>\n",
       "      <td>3.882397</td>\n",
       "      <td>0.515152</td>\n",
       "      <td>0.595727</td>\n",
       "      <td>0.401246</td>\n",
       "      <td>0.438760</td>\n",
       "      <td>0.934056</td>\n",
       "      <td>0.979237</td>\n",
       "      <td>0.972239</td>\n",
       "      <td>...</td>\n",
       "      <td>0.028964</td>\n",
       "      <td>0.031084</td>\n",
       "      <td>0.025645</td>\n",
       "      <td>0.037002</td>\n",
       "      <td>0.023882</td>\n",
       "      <td>0.001587</td>\n",
       "      <td>0.001125</td>\n",
       "      <td>0.001125</td>\n",
       "      <td>0.0</td>\n",
       "      <td>0.002131</td>\n",
       "    </tr>\n",
       "    <tr>\n",
       "      <th>7</th>\n",
       "      <td>Seismic Bumps</td>\n",
       "      <td>0.023061</td>\n",
       "      <td>0.315937</td>\n",
       "      <td>0.934210</td>\n",
       "      <td>0.000000</td>\n",
       "      <td>0.000000</td>\n",
       "      <td>0.000000</td>\n",
       "      <td>0.000000</td>\n",
       "      <td>1.000000</td>\n",
       "      <td>1.000000</td>\n",
       "      <td>...</td>\n",
       "      <td>0.001482</td>\n",
       "      <td>0.000000</td>\n",
       "      <td>0.000000</td>\n",
       "      <td>0.000000</td>\n",
       "      <td>0.000000</td>\n",
       "      <td>0.000000</td>\n",
       "      <td>0.000000</td>\n",
       "      <td>0.000000</td>\n",
       "      <td>0.0</td>\n",
       "      <td>0.000000</td>\n",
       "    </tr>\n",
       "    <tr>\n",
       "      <th>0</th>\n",
       "      <td>Breast Cancer</td>\n",
       "      <td>0.031761</td>\n",
       "      <td>0.113475</td>\n",
       "      <td>0.372598</td>\n",
       "      <td>0.542753</td>\n",
       "      <td>0.000000</td>\n",
       "      <td>0.372598</td>\n",
       "      <td>1.000000</td>\n",
       "      <td>1.000000</td>\n",
       "      <td>1.000000</td>\n",
       "      <td>...</td>\n",
       "      <td>0.014181</td>\n",
       "      <td>0.015162</td>\n",
       "      <td>0.000000</td>\n",
       "      <td>0.014181</td>\n",
       "      <td>0.000000</td>\n",
       "      <td>0.000000</td>\n",
       "      <td>0.000000</td>\n",
       "      <td>0.000000</td>\n",
       "      <td>0.0</td>\n",
       "      <td>0.000000</td>\n",
       "    </tr>\n",
       "    <tr>\n",
       "      <th>2</th>\n",
       "      <td>Heart Disease</td>\n",
       "      <td>0.018155</td>\n",
       "      <td>0.065154</td>\n",
       "      <td>0.544554</td>\n",
       "      <td>0.704878</td>\n",
       "      <td>0.000000</td>\n",
       "      <td>0.544554</td>\n",
       "      <td>1.000000</td>\n",
       "      <td>1.000000</td>\n",
       "      <td>1.000000</td>\n",
       "      <td>...</td>\n",
       "      <td>0.021389</td>\n",
       "      <td>0.018084</td>\n",
       "      <td>0.000000</td>\n",
       "      <td>0.021389</td>\n",
       "      <td>0.000000</td>\n",
       "      <td>0.000000</td>\n",
       "      <td>0.000000</td>\n",
       "      <td>0.000000</td>\n",
       "      <td>0.0</td>\n",
       "      <td>0.000000</td>\n",
       "    </tr>\n",
       "  </tbody>\n",
       "</table>\n",
       "<p>5 rows × 62 columns</p>\n",
       "</div>"
      ],
      "text/plain": [
       "             dataset  mean_fit_time  mean_score_time  mean_test_accuracy  \\\n",
       "4  Mammographic Mass       0.028506         5.370928            0.689156   \n",
       "8            Titanic       0.024651         3.882397            0.515152   \n",
       "7      Seismic Bumps       0.023061         0.315937            0.934210   \n",
       "0      Breast Cancer       0.031761         0.113475            0.372598   \n",
       "2      Heart Disease       0.018155         0.065154            0.544554   \n",
       "\n",
       "   mean_test_f1  mean_test_hmetric  mean_test_precision  mean_test_recall  \\\n",
       "4      0.728366           0.653627             0.632418          0.858686   \n",
       "8      0.595727           0.401246             0.438760          0.934056   \n",
       "7      0.000000           0.000000             0.000000          0.000000   \n",
       "0      0.542753           0.000000             0.372598          1.000000   \n",
       "2      0.704878           0.000000             0.544554          1.000000   \n",
       "\n",
       "   mean_train_accuracy  mean_train_f1  ...  std_test_accuracy  std_test_f1  \\\n",
       "4             0.932525       0.925339  ...           0.017694     0.013831   \n",
       "8             0.979237       0.972239  ...           0.028964     0.031084   \n",
       "7             1.000000       1.000000  ...           0.001482     0.000000   \n",
       "0             1.000000       1.000000  ...           0.014181     0.015162   \n",
       "2             1.000000       1.000000  ...           0.021389     0.018084   \n",
       "\n",
       "   std_test_hmetric  std_test_precision std_test_recall  std_train_accuracy  \\\n",
       "4          0.026185            0.009921        0.020598            0.006014   \n",
       "8          0.025645            0.037002        0.023882            0.001587   \n",
       "7          0.000000            0.000000        0.000000            0.000000   \n",
       "0          0.000000            0.014181        0.000000            0.000000   \n",
       "2          0.000000            0.021389        0.000000            0.000000   \n",
       "\n",
       "   std_train_f1  std_train_hmetric  std_train_precision  std_train_recall  \n",
       "4      0.006495           0.006495                  0.0          0.011242  \n",
       "8      0.001125           0.001125                  0.0          0.002131  \n",
       "7      0.000000           0.000000                  0.0          0.000000  \n",
       "0      0.000000           0.000000                  0.0          0.000000  \n",
       "2      0.000000           0.000000                  0.0          0.000000  \n",
       "\n",
       "[5 rows x 62 columns]"
      ]
     },
     "execution_count": 11,
     "metadata": {},
     "output_type": "execute_result"
    }
   ],
   "source": [
    "!rm -f metaframe.csv\n",
    "metaframe.to_csv('metaframe.csv', index=False)\n",
    "!chmod -w metaframe.csv\n",
    "metaframe = pd.read_csv('metaframe.csv')\n",
    "metaframe.sample(5)"
   ]
  },
  {
   "cell_type": "code",
   "execution_count": 12,
   "metadata": {},
   "outputs": [],
   "source": [
    "params = [\n",
    "    'param_use_positive',\n",
    "    #'param_alpha',\n",
    "    #'param_beta',\n",
    "]\n",
    "\n",
    "metrics = [\n",
    "    f'mean_{data}_{metric}'\n",
    "    for data in ['test', 'train']\n",
    "    for metric in ['f1', 'accuracy', 'precision', 'recall', 'hmetric']\n",
    "]\n",
    "\n",
    "foi = params + metrics + ['mean_fit_time', 'mean_score_time', 'dataset']"
   ]
  },
  {
   "cell_type": "code",
   "execution_count": 13,
   "metadata": {},
   "outputs": [],
   "source": [
    "df = metaframe[foi].copy()\n",
    "for param in params:\n",
    "    df = df.set_index(param, drop=True, append=(param is not params[0]))"
   ]
  },
  {
   "cell_type": "code",
   "execution_count": 24,
   "metadata": {},
   "outputs": [],
   "source": [
    "target = 'mean_test_hmetric'\n",
    "df2 = df[[target, 'dataset']]\n",
    "\n",
    "df3 = df2.iloc[:df2.shape[0] // df2.dataset.nunique()].copy()\n",
    "df3.drop(columns=df3.columns, inplace=True)\n",
    "for dataset in df2.dataset.unique():\n",
    "    df3[dataset] = df2[target].values[(df2.dataset == dataset).values]\n",
    "\n",
    "df3 = df3.sort_index().round(4)"
   ]
  },
  {
   "cell_type": "code",
   "execution_count": 25,
   "metadata": {},
   "outputs": [
    {
     "data": {
      "text/html": [
       "<div>\n",
       "<style scoped>\n",
       "    .dataframe tbody tr th:only-of-type {\n",
       "        vertical-align: middle;\n",
       "    }\n",
       "\n",
       "    .dataframe tbody tr th {\n",
       "        vertical-align: top;\n",
       "    }\n",
       "\n",
       "    .dataframe thead th {\n",
       "        text-align: right;\n",
       "    }\n",
       "</style>\n",
       "<table border=\"1\" class=\"dataframe\">\n",
       "  <thead>\n",
       "    <tr style=\"text-align: right;\">\n",
       "      <th></th>\n",
       "      <th>Breast Cancer</th>\n",
       "      <th>Heart Disease</th>\n",
       "      <th>Mammographic Mass</th>\n",
       "      <th>Seismic Bumps</th>\n",
       "      <th>Titanic</th>\n",
       "      <th>Breast GSE</th>\n",
       "      <th>Liver GSE</th>\n",
       "      <th>Prostate GSE</th>\n",
       "    </tr>\n",
       "    <tr>\n",
       "      <th>param_use_positive</th>\n",
       "      <th></th>\n",
       "      <th></th>\n",
       "      <th></th>\n",
       "      <th></th>\n",
       "      <th></th>\n",
       "      <th></th>\n",
       "      <th></th>\n",
       "      <th></th>\n",
       "    </tr>\n",
       "  </thead>\n",
       "  <tbody>\n",
       "    <tr>\n",
       "      <th>False</th>\n",
       "      <td>0.0</td>\n",
       "      <td>0.0</td>\n",
       "      <td>0.6167</td>\n",
       "      <td>0.000</td>\n",
       "      <td>0.1759</td>\n",
       "      <td>NaN</td>\n",
       "      <td>NaN</td>\n",
       "      <td>NaN</td>\n",
       "    </tr>\n",
       "    <tr>\n",
       "      <th>True</th>\n",
       "      <td>0.0</td>\n",
       "      <td>0.0</td>\n",
       "      <td>0.6536</td>\n",
       "      <td>0.018</td>\n",
       "      <td>0.4012</td>\n",
       "      <td>NaN</td>\n",
       "      <td>NaN</td>\n",
       "      <td>NaN</td>\n",
       "    </tr>\n",
       "  </tbody>\n",
       "</table>\n",
       "</div>"
      ],
      "text/plain": [
       "                    Breast Cancer  Heart Disease  Mammographic Mass  \\\n",
       "param_use_positive                                                    \n",
       "False                         0.0            0.0             0.6167   \n",
       "True                          0.0            0.0             0.6536   \n",
       "\n",
       "                    Seismic Bumps  Titanic  Breast GSE  Liver GSE  \\\n",
       "param_use_positive                                                  \n",
       "False                       0.000   0.1759         NaN        NaN   \n",
       "True                        0.018   0.4012         NaN        NaN   \n",
       "\n",
       "                    Prostate GSE  \n",
       "param_use_positive                \n",
       "False                        NaN  \n",
       "True                         NaN  "
      ]
     },
     "execution_count": 25,
     "metadata": {},
     "output_type": "execute_result"
    }
   ],
   "source": [
    "datasets = ['Breast Cancer', 'Heart Disease', 'Mammographic Mass', 'Seismic Bumps',\n",
    "        'Titanic', 'Breast GSE', 'Liver GSE', 'Prostate GSE']\n",
    "for d in datasets:\n",
    "    if d not in df3:\n",
    "        df3[d] = np.nan\n",
    "df3 = df3[datasets]\n",
    "df3"
   ]
  },
  {
   "cell_type": "code",
   "execution_count": 26,
   "metadata": {},
   "outputs": [
    {
     "name": "stdout",
     "output_type": "stream",
     "text": [
      "\\begin{tabular}{lrrrrrrrr}\n",
      "\\toprule\n",
      "{} &  Breast Cancer &  Heart Disease &  Mammographic Mass &  Seismic Bumps &  Titanic &  Breast GSE &  Liver GSE &  Prostate GSE \\\\\n",
      "param\\_use\\_positive &                &                &                    &                &          &             &            &               \\\\\n",
      "\\midrule\n",
      "False              &            0.0 &            0.0 &             0.6167 &          0.000 &   0.1759 &         NaN &        NaN &           NaN \\\\\n",
      "True               &            0.0 &            0.0 &             0.6536 &          0.018 &   0.4012 &         NaN &        NaN &           NaN \\\\\n",
      "\\bottomrule\n",
      "\\end{tabular}\n",
      "\n"
     ]
    }
   ],
   "source": [
    "print(df3.to_latex())"
   ]
  },
  {
   "cell_type": "markdown",
   "metadata": {},
   "source": [
    "# Plots"
   ]
  },
  {
   "cell_type": "code",
   "execution_count": 69,
   "metadata": {},
   "outputs": [],
   "source": [
    "data = {\n",
    "    \"Метод ближайшего\\nсоседа\": {'path':'./results/kNN', 'n_params': 2},\n",
    "    \"Логистическая\\nрегрессия\": {'path':'./results/Logistic', 'n_params': 2},\n",
    "    \"Случайный лес\": {'path':'./results/RandomFores', 'n_params': 2},\n",
    "    \"Алгоритм ленивой\\nклассификации\": {'path':'./results/A1', 'n_params': 1},\n",
    "    #\"Алгоритм 1\": {'path':'./results/A2', 'n_params': 3},\n",
    "    #\"Алгоритм 2\": {'path':'./results/A3', 'n_params': 3},\n",
    "    \"Алгоритм 3\": {'path':'./results/A4', 'n_params': 3},\n",
    "}"
   ]
  },
  {
   "cell_type": "code",
   "execution_count": 70,
   "metadata": {},
   "outputs": [],
   "source": [
    "labels = list(data.keys())"
   ]
  },
  {
   "cell_type": "code",
   "execution_count": 71,
   "metadata": {},
   "outputs": [],
   "source": [
    "datasets = ['Breast Cancer', 'Heart Disease', 'Mammographic Mass', 'Seismic Bumps',\n",
    "        'Titanic',]"
   ]
  },
  {
   "cell_type": "code",
   "execution_count": 72,
   "metadata": {},
   "outputs": [],
   "source": [
    "metrics = {\n",
    "    'Accuracy': 'accuracy.csv',\n",
    "    'Precision': 'precision.csv',\n",
    "    'Recall': 'recall.csv',\n",
    "    '$F_1$': 'f1.csv',\n",
    "    '$H$-metric': 'hmetric.csv',\n",
    "}"
   ]
  },
  {
   "cell_type": "code",
   "execution_count": 73,
   "metadata": {},
   "outputs": [],
   "source": [
    "frames = {\n",
    "    name: {\n",
    "        metric: pd.read_csv(\n",
    "            os.path.join(data_['path'], file),\n",
    "            index_col=list(range(data_['n_params'])),\n",
    "        )\n",
    "        for metric, file in metrics.items()\n",
    "    }\n",
    "    for name, data_ in data.items()\n",
    "}"
   ]
  },
  {
   "cell_type": "code",
   "execution_count": 79,
   "metadata": {
    "scrolled": false
   },
   "outputs": [
    {
     "data": {
      "image/png": "[encoded data removed]",
      "text/plain": [
       "<Figure size 864x576 with 1 Axes>"
      ]
     },
     "metadata": {
      "needs_background": "light"
     },
     "output_type": "display_data"
    },
    {
     "data": {
      "text/plain": [
       "<Figure size 432x288 with 0 Axes>"
      ]
     },
     "metadata": {},
     "output_type": "display_data"
    },
    {
     "data": {
      "image/png": "[encoded data removed]",
      "text/plain": [
       "<Figure size 864x576 with 1 Axes>"
      ]
     },
     "metadata": {
      "needs_background": "light"
     },
     "output_type": "display_data"
    },
    {
     "data": {
      "text/plain": [
       "<Figure size 432x288 with 0 Axes>"
      ]
     },
     "metadata": {},
     "output_type": "display_data"
    },
    {
     "data": {
      "image/png": "[encoded data removed]",
      "text/plain": [
       "<Figure size 864x576 with 1 Axes>"
      ]
     },
     "metadata": {
      "needs_background": "light"
     },
     "output_type": "display_data"
    },
    {
     "data": {
      "text/plain": [
       "<Figure size 432x288 with 0 Axes>"
      ]
     },
     "metadata": {},
     "output_type": "display_data"
    },
    {
     "data": {
      "image/png": "[encoded data removed]",
      "text/plain": [
       "<Figure size 864x576 with 1 Axes>"
      ]
     },
     "metadata": {
      "needs_background": "light"
     },
     "output_type": "display_data"
    },
    {
     "data": {
      "text/plain": [
       "<Figure size 432x288 with 0 Axes>"
      ]
     },
     "metadata": {},
     "output_type": "display_data"
    },
    {
     "data": {
      "image/png": "[encoded data removed]",
      "text/plain": [
       "<Figure size 864x576 with 1 Axes>"
      ]
     },
     "metadata": {
      "needs_background": "light"
     },
     "output_type": "display_data"
    },
    {
     "data": {
      "text/plain": [
       "<Figure size 432x288 with 0 Axes>"
      ]
     },
     "metadata": {},
     "output_type": "display_data"
    }
   ],
   "source": [
    "x = np.arange(len(labels))\n",
    "width = 0.4\n",
    "width_mult = 1 / (len(metrics) - 1)\n",
    "\n",
    "for dataset in datasets:\n",
    "    plt.figure(figsize=(12,8))\n",
    "    for i, metric in enumerate(metrics):\n",
    "        values = [frame[metric][dataset].max() for frame in frames.values()]\n",
    "        offset = (i * width_mult - 0.5) / 2\n",
    "        \n",
    "        rects = plt.bar(x + offset, values, width * width_mult, label=metric)\n",
    "        \n",
    "        for j, v in enumerate(values):\n",
    "            plt.text(j + offset, v, str(v.round(2)), va='bottom', ha='center')\n",
    "\n",
    "    plt.ylabel('metric value')\n",
    "    plt.ylim(0, 1)\n",
    "    plt.title(dataset)\n",
    "    plt.xticks(x, labels)\n",
    "    plt.legend()\n",
    "    plt.grid()\n",
    "    #plt.hlines(max(max(h_values), max(h_values_dual)), *plt.xlim(), 'k', linestyles='--')\n",
    "\n",
    "    plt.gcf().tight_layout()\n",
    "    #plt.savefig(dataset + '.pdf')\n",
    "    plt.show()\n",
    "    plt.clf()"
   ]
  },
  {
   "cell_type": "code",
   "execution_count": null,
   "metadata": {},
   "outputs": [],
   "source": []
  }
 ],
 "metadata": {
  "kernelspec": {
   "display_name": "Python 3",
   "language": "python",
   "name": "python3"
  },
  "language_info": {
   "codemirror_mode": {
    "name": "ipython",
    "version": 3
   },
   "file_extension": ".py",
   "mimetype": "text/x-python",
   "name": "python",
   "nbconvert_exporter": "python",
   "pygments_lexer": "ipython3",
   "version": "3.6.9"
  }
 },
 "nbformat": 4,
 "nbformat_minor": 2
}
